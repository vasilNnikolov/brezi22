{
 "cells": [
  {
   "cell_type": "markdown",
   "metadata": {},
   "source": [
    "# Catalogue data analysis for M29, M39 and NGC 6633"
   ]
  },
  {
   "cell_type": "markdown",
   "metadata": {},
   "source": [
    "Download the data from vizier, GAIA catalogue, with radius 5 arcmin around the center of M29, and filter the data according to paralax"
   ]
  },
  {
   "cell_type": "code",
   "execution_count": 2,
   "metadata": {},
   "outputs": [],
   "source": [
    "import numpy as np\n",
    "import pandas as pd\n",
    "import matplotlib.pyplot as plt\n",
    "import seaborn as sns"
   ]
  },
  {
   "cell_type": "code",
   "execution_count": 3,
   "metadata": {},
   "outputs": [
    {
     "name": "stdout",
     "output_type": "stream",
     "text": [
      "<class 'pandas.core.frame.DataFrame'>\n",
      "RangeIndex: 1596 entries, 0 to 1595\n",
      "Data columns (total 11 columns):\n",
      " #   Column   Non-Null Count  Dtype  \n",
      "---  ------   --------------  -----  \n",
      " 0   _r       1596 non-null   float64\n",
      " 1   RA_ICRS  1596 non-null   float64\n",
      " 2   DE_ICRS  1596 non-null   float64\n",
      " 3   Plx      1381 non-null   float64\n",
      " 4   e_Plx    1381 non-null   float64\n",
      " 5   Gmag     1585 non-null   float64\n",
      " 6   e_Gmag   1585 non-null   float64\n",
      " 7   BPmag    1501 non-null   float64\n",
      " 8   e_BPmag  1501 non-null   float64\n",
      " 9   RPmag    1534 non-null   float64\n",
      " 10  e_RPmag  1534 non-null   float64\n",
      "dtypes: float64(11)\n",
      "memory usage: 137.3 KB\n",
      "None\n"
     ]
    }
   ],
   "source": [
    "data = pd.read_csv(\"asu-csv.csv\", sep=';')\n",
    "useful_columns = [\"_r\", \"RA_ICRS\", \"DE_ICRS\", \"Plx\", \"e_Plx\", \"Gmag\", \"e_Gmag\", \"BPmag\", \"e_BPmag\", \"RPmag\", \"e_RPmag\"]\n",
    "data = data[useful_columns]\n",
    "\n",
    "# data = pd.DataFrame([pd.to_numeric(data[col]) for col in data.columns], errors=\"coerce\") \n",
    "def to_float(x): \n",
    "    try: \n",
    "        return float(x)\n",
    "    except Exception:\n",
    "        return np.nan \n",
    "data = data.applymap(to_float).astype(float)\n",
    "\n",
    "print(data.info())"
   ]
  },
  {
   "cell_type": "markdown",
   "metadata": {},
   "source": [
    "## Filter stars which have no parallax data"
   ]
  },
  {
   "cell_type": "code",
   "execution_count": 4,
   "metadata": {},
   "outputs": [
    {
     "name": "stdout",
     "output_type": "stream",
     "text": [
      "cluster raidus is approx 2.671367155913134 pc\n",
      "<class 'pandas.core.frame.DataFrame'>\n",
      "Int64Index: 415 entries, 0 to 1589\n",
      "Data columns (total 11 columns):\n",
      " #   Column   Non-Null Count  Dtype  \n",
      "---  ------   --------------  -----  \n",
      " 0   _r       415 non-null    float64\n",
      " 1   RA_ICRS  415 non-null    float64\n",
      " 2   DE_ICRS  415 non-null    float64\n",
      " 3   Plx      415 non-null    float64\n",
      " 4   e_Plx    415 non-null    float64\n",
      " 5   Gmag     415 non-null    float64\n",
      " 6   e_Gmag   415 non-null    float64\n",
      " 7   BPmag    415 non-null    float64\n",
      " 8   e_BPmag  415 non-null    float64\n",
      " 9   RPmag    415 non-null    float64\n",
      " 10  e_RPmag  415 non-null    float64\n",
      "dtypes: float64(11)\n",
      "memory usage: 38.9 KB\n",
      "None\n"
     ]
    }
   ],
   "source": [
    "data.dropna(subset=[\"Plx\", \"Gmag\", \"BPmag\", \"RPmag\"], inplace=True)\n",
    "# data.dropna(subset=[\"Gmag\", \"BPmag\", \"RPmag\"], inplace=True)\n",
    "# no_plx_data = data.dropna(subset=[\"Plx\"])\n",
    "\n",
    "distance_from_center = data[\"_r\"]\n",
    "R_ang = 8 # 7 arcmin is approx the radius of m29\n",
    "d = 1148 # distance to cluster in parsecs\n",
    "R = d*R_ang/(60*57.299) # radius of the cluster in pc\n",
    "print(f\"cluster raidus is approx {R} pc\")\n",
    "\n",
    "# data = data[distance_from_center < R_ang]\n",
    "parallax_min = data[\"Plx\"] - data[\"e_Plx\"]\n",
    "parallax_max = data[\"Plx\"] + data[\"e_Plx\"]\n",
    "data = data[(parallax_max/1000 > 1/(d + R)) & (parallax_min/1000 < 1/(d - R))]\n",
    "\n",
    "print(data.info())"
   ]
  },
  {
   "cell_type": "code",
   "execution_count": 8,
   "metadata": {},
   "outputs": [],
   "source": [
    "%matplotlib qt\n",
    "fig = plt.figure()\n",
    "ax = plt.axes(projection=\"3d\")\n",
    "g_mags = data[\"Gmag\"]\n",
    "bp_mags = data[\"BPmag\"]\n",
    "rp_mags = data[\"RPmag\"]\n",
    "\n",
    "ax.scatter3D(bp_mags, bp_mags - g_mags, bp_mags - rp_mags, s=3, color='red')\n",
    "# no_plx_gmags = no_plx_data[\"Gmag\"] \n",
    "# no_plx_bpmags = no_plx_data[\"BPmag\"]\n",
    "# no_plx_rpmags = no_plx_data[\"RPmag\"]\n",
    "# ax.scatter3D(no_plx_bpmags, no_plx_bpmags - no_plx_gmags, no_plx_bpmags - no_plx_rpmags, s=1, color='green')\n",
    "plt.show()"
   ]
  },
  {
   "cell_type": "code",
   "execution_count": null,
   "metadata": {},
   "outputs": [],
   "source": []
  }
 ],
 "metadata": {
  "kernelspec": {
   "display_name": "Python 3.10.4",
   "language": "python",
   "name": "python3"
  },
  "language_info": {
   "codemirror_mode": {
    "name": "ipython",
    "version": 3
   },
   "file_extension": ".py",
   "mimetype": "text/x-python",
   "name": "python",
   "nbconvert_exporter": "python",
   "pygments_lexer": "ipython3",
   "version": "3.10.4"
  },
  "orig_nbformat": 4,
  "vscode": {
   "interpreter": {
    "hash": "1a7c3fbafc4c2ea013a97cb14f2c3a971905aa9e0595555db1a76c0c31cc2c52"
   }
  }
 },
 "nbformat": 4,
 "nbformat_minor": 2
}
