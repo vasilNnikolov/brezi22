{
 "cells": [
  {
   "cell_type": "code",
   "execution_count": 2,
   "metadata": {},
   "outputs": [],
   "source": [
    "import matplotlib.pyplot as plt\n",
    "import numpy as np\n",
    "import pandas as pd\n",
    "import os\n",
    "base_dir = os.getcwd()"
   ]
  },
  {
   "cell_type": "code",
   "execution_count": 3,
   "metadata": {},
   "outputs": [
    {
     "name": "stdout",
     "output_type": "stream",
     "text": [
      "                _r      RAJ2000      DEJ2000         gmag       e_gmag  \\\n",
      "count  6103.000000  6103.000000  6103.000000  2775.000000  1760.000000   \n",
      "mean      4.713027   305.933606    38.482211    21.518668     0.059655   \n",
      "std       1.622350     0.074891     0.058212     3.321451     0.068847   \n",
      "min       0.034900   305.794028    38.370887     8.725000     0.000000   \n",
      "25%       3.582200   305.872763    38.433972    19.862950     0.009475   \n",
      "50%       4.991800   305.929423    38.481161    21.577800     0.030750   \n",
      "75%       6.088200   305.992937    38.528819    23.208000     0.081100   \n",
      "max       6.999900   306.091144    38.602637    30.090000     0.432200   \n",
      "\n",
      "              rmag       e_rmag         imag       e_imag         zmag  \\\n",
      "count  3702.000000  3187.000000  5594.000000  5401.000000  5895.000000   \n",
      "mean     20.065846     0.061443    19.683335     0.050423    19.009028   \n",
      "std       2.377252     0.069253     1.994553     0.058106     1.806394   \n",
      "min       7.983500     0.000000     8.156000     0.000000     7.266100   \n",
      "25%      19.064600     0.010850    18.862500     0.010900    18.281500   \n",
      "50%      20.661800     0.032200    20.261600     0.027300    19.488900   \n",
      "75%      21.540800     0.088900    21.132475     0.065300    20.319900   \n",
      "max      26.201000     0.479500    22.840000     0.453500    21.330400   \n",
      "\n",
      "            e_zmag  \n",
      "count  5831.000000  \n",
      "mean      0.044909  \n",
      "std       0.050470  \n",
      "min       0.000000  \n",
      "25%       0.011500  \n",
      "50%       0.026000  \n",
      "75%       0.058800  \n",
      "max       0.462700  \n"
     ]
    }
   ],
   "source": [
    "data_filename = \"m29_7arcmin_panstarrs_data.csv\"\n",
    "data = pd.read_csv(os.path.join(base_dir, data_filename), sep=';')\n",
    "useful_columns = [\"_r\", \"RAJ2000\", \"DEJ2000\", \"gmag\", \"e_gmag\", \"rmag\", \"e_rmag\", \"imag\", \"e_imag\", \"zmag\", \"e_zmag\"]\n",
    "data = data[useful_columns]\n",
    "\n",
    "def to_float(x): \n",
    "    try: \n",
    "        return float(x)\n",
    "    except Exception:\n",
    "        return np.nan \n",
    "data = data.applymap(to_float).astype(float)\n",
    "\n",
    "print(data.describe())"
   ]
  },
  {
   "cell_type": "code",
   "execution_count": 4,
   "metadata": {},
   "outputs": [
    {
     "name": "stdout",
     "output_type": "stream",
     "text": [
      "                _r      RAJ2000      DEJ2000         gmag       e_gmag  \\\n",
      "count  2641.000000  2641.000000  2641.000000  2641.000000  1629.000000   \n",
      "mean      4.725604   305.935539    38.483476    21.623468     0.055435   \n",
      "std       1.592680     0.075223     0.058280     3.276687     0.065481   \n",
      "min       0.034900   305.794028    38.371720     8.725000     0.000000   \n",
      "25%       3.592300   305.873864    38.435752    19.892500     0.009100   \n",
      "50%       4.972200   305.929754    38.482309    21.618000     0.028400   \n",
      "75%       6.075000   305.994990    38.529979    23.485000     0.070900   \n",
      "max       6.999800   306.091144    38.602637    30.090000     0.432200   \n",
      "\n",
      "              rmag       e_rmag         imag       e_imag         zmag  \\\n",
      "count  2641.000000  2131.000000  2641.000000  2451.000000  2641.000000   \n",
      "mean     19.719195     0.036523    18.562242     0.022226    17.803363   \n",
      "std       2.478741     0.049236     2.039345     0.034142     1.803760   \n",
      "min       8.338800     0.000000     8.156000     0.000000     7.967000   \n",
      "25%      18.477900     0.007600    17.599900     0.005500    16.969300   \n",
      "50%      20.027000     0.018800    18.905700     0.011600    18.182700   \n",
      "75%      21.212300     0.042000    19.840200     0.022950    18.933000   \n",
      "max      26.201000     0.458600    22.840000     0.375800    21.138700   \n",
      "\n",
      "            e_zmag  \n",
      "count  2579.000000  \n",
      "mean      0.019080  \n",
      "std       0.025128  \n",
      "min       0.000000  \n",
      "25%       0.005700  \n",
      "50%       0.011900  \n",
      "75%       0.021200  \n",
      "max       0.335600  \n"
     ]
    }
   ],
   "source": [
    "data.dropna(subset=[\"gmag\", \"rmag\", \"imag\", \"zmag\"], inplace=True)\n",
    "gmags = data[\"gmag\"]\n",
    "print(data.describe())"
   ]
  },
  {
   "cell_type": "code",
   "execution_count": 11,
   "metadata": {},
   "outputs": [
    {
     "name": "stdout",
     "output_type": "stream",
     "text": [
      "u: 2641, g: 2641, B: 2641\n",
      "2641\n"
     ]
    },
    {
     "data": {
      "text/plain": [
       "count    2641.000000\n",
       "mean       17.641915\n",
       "std         1.994452\n",
       "min         4.968519\n",
       "25%        16.699079\n",
       "50%        17.815018\n",
       "75%        18.753120\n",
       "max        25.865894\n",
       "Name: I, dtype: float64"
      ]
     },
     "execution_count": 11,
     "metadata": {},
     "output_type": "execute_result"
    }
   ],
   "source": [
    "%matplotlib qt\n",
    "fig = plt.figure()\n",
    "ax = plt.axes(projection=\"3d\")\n",
    "gmags = data[\"gmag\"]\n",
    "rmags = data[\"rmag\"]\n",
    "imags = data[\"imag\"]\n",
    "zmags = data[\"zmag\"]\n",
    "\n",
    "# ax.scatter3D(gmags, rmags - gmags, imags - gmags, s=1, color='red')\n",
    "# ax.set_xlabel(\"G mag\")\n",
    "# ax.set_ylabel(\"R - G\")\n",
    "# ax.set_zlabel(\"I - G\")\n",
    "# plt.show()\n",
    "def ugriz_to_ubvri(ugriz):\n",
    "    u, g, r, i, z = ugriz\n",
    "    u = np.array(u)\n",
    "    g = np.array(g)\n",
    "    r = np.array(r)\n",
    "    i = np.array(i)\n",
    "    z = np.array(z)\n",
    "\n",
    "    V = g - 0.59*(g - r) - 0.01\n",
    "    B = g + 0.39*(g - r) + 0.21\n",
    "    R = V - (1.09*(r - i) + 0.22)\n",
    "    print(f\"u: {len(u)}, g: {len(g)}, B: {len(B)}\")\n",
    "    U = 0.77*(u - g) - 0.88 + B\n",
    "    print(len(U))\n",
    "\n",
    "    I = R - (r - i + 0.21)\n",
    "    return (U, B, V, R, I)\n",
    "\n",
    "umags = pd.Series([0 for _ in range(len(gmags))])\n",
    "data[\"U\"], data[\"B\"], data[\"V\"], data[\"R\"], data[\"I\"] = ugriz_to_ubvri((umags, gmags, rmags, imags, zmags))\n",
    "\n"
   ]
  },
  {
   "cell_type": "code",
   "execution_count": 5,
   "metadata": {},
   "outputs": [],
   "source": [
    "times = [6.0 + i*0.1 for i in range(31)]\n",
    "\n",
    "filenames = [f\"isochrone_{10*t:.0f}.dat\" for t in times]\n",
    "isochrone_cols = [\"M_ini\", \"MV\", \"U-B\", \"B-V\", \"V-R\", \"V-I\"]\n",
    "isochrones = {times[i]: pd.read_csv(os.path.join(\"..\", \"isochrones\", filenames[i]), delim_whitespace=True)[isochrone_cols] for i in range(len(filenames))}\n"
   ]
  },
  {
   "cell_type": "code",
   "execution_count": 6,
   "metadata": {},
   "outputs": [],
   "source": [
    "\n",
    "%matplotlib qt\n",
    "fig = plt.figure()\n",
    "ax = plt.axes(projection=\"3d\")\n",
    "vmags = isochrones[9.0][\"MV\"] \n",
    "bmags = isochrones[9.0][\"B-V\"] + vmags\n",
    "rmags = vmags - isochrones[9.0][\"V-R\"]\n",
    "\n",
    "ax.scatter3D(vmags, bmags - vmags, rmags - vmags, s=1, color='red')\n",
    "ax.set_xlabel(\"G mag\")\n",
    "ax.set_ylabel(\"R - G\")\n",
    "ax.set_zlabel(\"I - G\")\n",
    "plt.show()"
   ]
  },
  {
   "cell_type": "code",
   "execution_count": null,
   "metadata": {},
   "outputs": [],
   "source": []
  }
 ],
 "metadata": {
  "kernelspec": {
   "display_name": "Python 3.10.4",
   "language": "python",
   "name": "python3"
  },
  "language_info": {
   "codemirror_mode": {
    "name": "ipython",
    "version": 3
   },
   "file_extension": ".py",
   "mimetype": "text/x-python",
   "name": "python",
   "nbconvert_exporter": "python",
   "pygments_lexer": "ipython3",
   "version": "3.10.4"
  },
  "orig_nbformat": 4,
  "vscode": {
   "interpreter": {
    "hash": "60ec8ab5e5a195d70e3f04de7f9e43c26a6859d3c30e7c2dc29a8f7eb2e8a73c"
   }
  }
 },
 "nbformat": 4,
 "nbformat_minor": 2
}
