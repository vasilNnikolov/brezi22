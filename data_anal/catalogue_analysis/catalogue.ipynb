{
 "cells": [
  {
   "cell_type": "code",
   "execution_count": 13,
   "metadata": {},
   "outputs": [],
   "source": [
    "import matplotlib.pyplot as plt\n",
    "import numpy as np\n",
    "import pandas as pd\n",
    "import os\n",
    "base_dir = os.getcwd()"
   ]
  },
  {
   "cell_type": "markdown",
   "metadata": {},
   "source": [
    "## Load data "
   ]
  },
  {
   "cell_type": "code",
   "execution_count": 14,
   "metadata": {},
   "outputs": [],
   "source": [
    "data_filename = \"m29_7arcmin_panstarrs_data.csv\"\n",
    "data = pd.read_csv(os.path.join(base_dir, data_filename), sep=';')\n",
    "useful_columns = [\"_r\", \"RAJ2000\", \"DEJ2000\", \"gmag\", \"e_gmag\", \"rmag\", \"e_rmag\", \"imag\", \"e_imag\", \"zmag\", \"e_zmag\"]\n",
    "data = data[useful_columns]\n",
    "\n",
    "def to_float(x): \n",
    "    try: \n",
    "        return float(x)\n",
    "    except Exception:\n",
    "        return np.nan \n",
    "data = data.applymap(to_float).astype(float)"
   ]
  },
  {
   "cell_type": "code",
   "execution_count": 15,
   "metadata": {},
   "outputs": [
    {
     "name": "stdout",
     "output_type": "stream",
     "text": [
      "                _r      RAJ2000      DEJ2000         gmag       e_gmag  \\\n",
      "count  2641.000000  2641.000000  2641.000000  2641.000000  1629.000000   \n",
      "mean      4.725604   305.935539    38.483476    21.623468     0.055435   \n",
      "std       1.592680     0.075223     0.058280     3.276687     0.065481   \n",
      "min       0.034900   305.794028    38.371720     8.725000     0.000000   \n",
      "25%       3.592300   305.873864    38.435752    19.892500     0.009100   \n",
      "50%       4.972200   305.929754    38.482309    21.618000     0.028400   \n",
      "75%       6.075000   305.994990    38.529979    23.485000     0.070900   \n",
      "max       6.999800   306.091144    38.602637    30.090000     0.432200   \n",
      "\n",
      "              rmag       e_rmag         imag       e_imag         zmag  \\\n",
      "count  2641.000000  2131.000000  2641.000000  2451.000000  2641.000000   \n",
      "mean     19.719195     0.036523    18.562242     0.022226    17.803363   \n",
      "std       2.478741     0.049236     2.039345     0.034142     1.803760   \n",
      "min       8.338800     0.000000     8.156000     0.000000     7.967000   \n",
      "25%      18.477900     0.007600    17.599900     0.005500    16.969300   \n",
      "50%      20.027000     0.018800    18.905700     0.011600    18.182700   \n",
      "75%      21.212300     0.042000    19.840200     0.022950    18.933000   \n",
      "max      26.201000     0.458600    22.840000     0.375800    21.138700   \n",
      "\n",
      "            e_zmag  \n",
      "count  2579.000000  \n",
      "mean      0.019080  \n",
      "std       0.025128  \n",
      "min       0.000000  \n",
      "25%       0.005700  \n",
      "50%       0.011900  \n",
      "75%       0.021200  \n",
      "max       0.335600  \n"
     ]
    }
   ],
   "source": [
    "data.dropna(subset=[\"gmag\", \"rmag\", \"imag\", \"zmag\"], inplace=True)\n",
    "print(data.describe())"
   ]
  },
  {
   "cell_type": "code",
   "execution_count": 16,
   "metadata": {},
   "outputs": [],
   "source": [
    "def ugriz_to_ubvri(ugriz):\n",
    "    u, g, r, i, z = ugriz\n",
    "    u = np.array(u)\n",
    "    g = np.array(g)\n",
    "    r = np.array(r)\n",
    "    i = np.array(i)\n",
    "    z = np.array(z)\n",
    "\n",
    "    V = g - 0.59*(g - r) - 0.01\n",
    "    B = g + 0.39*(g - r) + 0.21\n",
    "    R = V - (1.09*(r - i) + 0.22)\n",
    "    U = 0.77*(u - g) - 0.88 + B\n",
    "\n",
    "    I = R - (r - i + 0.21)\n",
    "    return (U, B, V, R, I)\n",
    "\n",
    "gmags = data[\"gmag\"]\n",
    "umags = pd.Series([69 for _ in range(len(gmags))])\n",
    "rmags = data[\"rmag\"]\n",
    "imags = data[\"imag\"]\n",
    "zmags = data[\"zmag\"]\n",
    "_, data[\"B\"], data[\"V\"], data[\"R\"], data[\"I\"] = ugriz_to_ubvri((umags, gmags, rmags, imags, zmags))"
   ]
  },
  {
   "cell_type": "markdown",
   "metadata": {},
   "source": [
    "## Apply distance correction, reddening"
   ]
  },
  {
   "cell_type": "code",
   "execution_count": 17,
   "metadata": {},
   "outputs": [],
   "source": [
    "m29_dist = 1148 # pc\n",
    "obs_minus_absolue = 5*np.log10(m29_dist) - 5\n",
    "data = data[data[\"V\"] < 9 + obs_minus_absolue]\n",
    "data[\"B\"] -= obs_minus_absolue\n",
    "data[\"V\"] -= obs_minus_absolue\n",
    "data[\"R\"] -= obs_minus_absolue\n",
    "data[\"I\"] -= obs_minus_absolue\n",
    "a_redd = 0.744\n",
    "\n",
    "A_v = 3.1*a_redd\n",
    "A_b = 1.32*A_v\n",
    "A_r = 0.79*A_v\n",
    "A_i = 0.55*A_v\n",
    "\n",
    "data[\"B\"] -= A_b\n",
    "data[\"V\"] -= A_v \n",
    "data[\"R\"] -= A_r\n",
    "data[\"I\"] -= A_i"
   ]
  },
  {
   "cell_type": "markdown",
   "metadata": {},
   "source": [
    "## Load isochrones"
   ]
  },
  {
   "cell_type": "code",
   "execution_count": 38,
   "metadata": {},
   "outputs": [],
   "source": [
    "times = [6.0 + i*0.1 for i in range(31)]\n",
    "\n",
    "filenames = [f\"isochrone_{10*t:.0f}.dat\" for t in times]\n",
    "isochrone_cols = [\"M_ini\", \"MV\", \"U-B\", \"B-V\", \"V-R\", \"V-I\"]\n",
    "isochrones = {\n",
    "    times[i]: pd.read_csv(os.path.join(\"..\", \"isochrones\", filenames[i]), delim_whitespace=True)[isochrone_cols] for i in range(len(filenames))\n",
    "}\n"
   ]
  },
  {
   "cell_type": "code",
   "execution_count": 47,
   "metadata": {},
   "outputs": [],
   "source": [
    "%matplotlib qt\n",
    "from matplotlib import colors\n",
    "\n",
    "fig, (ax1, ax2, ax3) = plt.subplots(nrows=1, ncols=3)\n",
    "B = data[\"B\"]\n",
    "V = data[\"V\"]\n",
    "R = data[\"R\"]\n",
    "I = data[\"I\"]\n",
    "\n",
    "# ax1 B-V vs V\n",
    "ax1.scatter(B-V, V, s=1)\n",
    "ax1.set_xlabel(\"B-V\")\n",
    "ax1.set_ylabel(\"V\")\n",
    "\n",
    "# ax2 V-R vs R\n",
    "ax2.scatter(V-R, R, s=1)\n",
    "ax2.set_xlabel(\"V-R\")\n",
    "ax2.set_ylabel(\"R\")\n",
    "\n",
    "# ax3 R-I vs I\n",
    "ax3.scatter(R-I, I, s=1)\n",
    "ax3.set_xlabel(\"R-I\")\n",
    "ax3.set_ylabel(\"I\")\n",
    "\n",
    "plt.tight_layout()\n",
    "# isochrone\n",
    "cdict = {'red':   ((0.0,  0.22, 0.0),\n",
    "                   (0.5,  1.0, 1.0),\n",
    "                   (1.0,  0.89, 1.0)),\n",
    "\n",
    "         'green': ((0.0,  0.49, 0.0),\n",
    "                   (0.5,  1.0, 1.0),\n",
    "                   (1.0,  0.12, 1.0)),\n",
    "\n",
    "         'blue':  ((0.0,  0.72, 0.0),\n",
    "                   (0.5,  0.0, 0.0),\n",
    "                   (1.0,  0.11, 1.0))}\n",
    "\n",
    "cmap = colors.LinearSegmentedColormap('custom', cdict)\n",
    "\n",
    "times = [6.0 + 0.1*i for i in range(31)]\n",
    "for index, log_t in enumerate(times):\n",
    "    vmags = isochrones[log_t][\"MV\"] \n",
    "    bmags = isochrones[log_t][\"B-V\"] + vmags\n",
    "    rmags = vmags - isochrones[log_t][\"V-R\"]\n",
    "    imags = vmags - isochrones[log_t][\"V-I\"]\n",
    "    ax1.plot(bmags - vmags, bmags, c=cmap(index/len(times)))\n",
    "    ax2.plot(vmags - rmags, vmags, c=cmap(index/len(times)))\n",
    "    ax3.plot(rmags - imags, rmags, c=cmap(index/len(times)))\n",
    "ax1.set_xlim((-0.5, 2.5))\n",
    "ax1.set_ylim((-2, 7.5))\n",
    "\n",
    "ax2.set_xlim((-0.5, 2))\n",
    "ax2.set_ylim((-2, 7))\n",
    "\n",
    "ax3.set_ylim((-5, 6.5))\n",
    "ax3.set_xlim((-1, 1.5))\n",
    "ax1.invert_yaxis()\n",
    "ax2.invert_yaxis()\n",
    "ax3.invert_yaxis()"
   ]
  },
  {
   "cell_type": "code",
   "execution_count": null,
   "metadata": {},
   "outputs": [],
   "source": []
  }
 ],
 "metadata": {
  "kernelspec": {
   "display_name": "Python 3.10.4",
   "language": "python",
   "name": "python3"
  },
  "language_info": {
   "codemirror_mode": {
    "name": "ipython",
    "version": 3
   },
   "file_extension": ".py",
   "mimetype": "text/x-python",
   "name": "python",
   "nbconvert_exporter": "python",
   "pygments_lexer": "ipython3",
   "version": "3.10.4"
  },
  "orig_nbformat": 4,
  "vscode": {
   "interpreter": {
    "hash": "60ec8ab5e5a195d70e3f04de7f9e43c26a6859d3c30e7c2dc29a8f7eb2e8a73c"
   }
  }
 },
 "nbformat": 4,
 "nbformat_minor": 2
}
