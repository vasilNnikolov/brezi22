{
 "cells": [
  {
   "cell_type": "code",
   "execution_count": 1,
   "metadata": {},
   "outputs": [],
   "source": [
    "import matplotlib.pyplot as plt\n",
    "import numpy as np\n",
    "import pandas as pd\n",
    "import os\n",
    "base_dir = os.getcwd()"
   ]
  },
  {
   "cell_type": "markdown",
   "metadata": {},
   "source": [
    "## Load data "
   ]
  },
  {
   "cell_type": "code",
   "execution_count": 2,
   "metadata": {},
   "outputs": [],
   "source": [
    "data_filename = \"m29_7arcmin_panstarrs_data.csv\"\n",
    "data = pd.read_csv(os.path.join(base_dir, data_filename), sep=';')\n",
    "useful_columns = [\"_r\", \"RAJ2000\", \"DEJ2000\", \"gmag\", \"e_gmag\", \"rmag\", \"e_rmag\", \"imag\", \"e_imag\", \"zmag\", \"e_zmag\"]\n",
    "data = data[useful_columns]\n",
    "\n",
    "def to_float(x): \n",
    "    try: \n",
    "        return float(x)\n",
    "    except Exception:\n",
    "        return np.nan \n",
    "data = data.applymap(to_float).astype(float)"
   ]
  },
  {
   "cell_type": "code",
   "execution_count": 3,
   "metadata": {},
   "outputs": [
    {
     "name": "stdout",
     "output_type": "stream",
     "text": [
      "                _r      RAJ2000      DEJ2000         gmag       e_gmag  \\\n",
      "count  2641.000000  2641.000000  2641.000000  2641.000000  1629.000000   \n",
      "mean      4.725604   305.935539    38.483476    21.623468     0.055435   \n",
      "std       1.592680     0.075223     0.058280     3.276687     0.065481   \n",
      "min       0.034900   305.794028    38.371720     8.725000     0.000000   \n",
      "25%       3.592300   305.873864    38.435752    19.892500     0.009100   \n",
      "50%       4.972200   305.929754    38.482309    21.618000     0.028400   \n",
      "75%       6.075000   305.994990    38.529979    23.485000     0.070900   \n",
      "max       6.999800   306.091144    38.602637    30.090000     0.432200   \n",
      "\n",
      "              rmag       e_rmag         imag       e_imag         zmag  \\\n",
      "count  2641.000000  2131.000000  2641.000000  2451.000000  2641.000000   \n",
      "mean     19.719195     0.036523    18.562242     0.022226    17.803363   \n",
      "std       2.478741     0.049236     2.039345     0.034142     1.803760   \n",
      "min       8.338800     0.000000     8.156000     0.000000     7.967000   \n",
      "25%      18.477900     0.007600    17.599900     0.005500    16.969300   \n",
      "50%      20.027000     0.018800    18.905700     0.011600    18.182700   \n",
      "75%      21.212300     0.042000    19.840200     0.022950    18.933000   \n",
      "max      26.201000     0.458600    22.840000     0.375800    21.138700   \n",
      "\n",
      "            e_zmag  \n",
      "count  2579.000000  \n",
      "mean      0.019080  \n",
      "std       0.025128  \n",
      "min       0.000000  \n",
      "25%       0.005700  \n",
      "50%       0.011900  \n",
      "75%       0.021200  \n",
      "max       0.335600  \n"
     ]
    }
   ],
   "source": [
    "data.dropna(subset=[\"gmag\", \"rmag\", \"imag\", \"zmag\"], inplace=True)\n",
    "print(data.describe())"
   ]
  },
  {
   "cell_type": "code",
   "execution_count": 4,
   "metadata": {},
   "outputs": [],
   "source": [
    "def ugriz_to_ubvri(ugriz):\n",
    "    u, g, r, i, z = ugriz\n",
    "    u = np.array(u)\n",
    "    g = np.array(g)\n",
    "    r = np.array(r)\n",
    "    i = np.array(i)\n",
    "    z = np.array(z)\n",
    "\n",
    "    V = g - 0.59*(g - r) - 0.01\n",
    "    B = g + 0.39*(g - r) + 0.21\n",
    "    R = V - (1.09*(r - i) + 0.22)\n",
    "    U = 0.77*(u - g) - 0.88 + B\n",
    "\n",
    "    I = R - (r - i + 0.21)\n",
    "    return (U, B, V, R, I)\n",
    "\n",
    "gmags = data[\"gmag\"]\n",
    "umags = pd.Series([69 for _ in range(len(gmags))])\n",
    "rmags = data[\"rmag\"]\n",
    "imags = data[\"imag\"]\n",
    "zmags = data[\"zmag\"]\n",
    "_, data[\"B\"], data[\"V\"], data[\"R\"], data[\"I\"] = ugriz_to_ubvri((umags, gmags, rmags, imags, zmags))"
   ]
  },
  {
   "cell_type": "markdown",
   "metadata": {},
   "source": [
    "## Apply distance correction, reddening"
   ]
  },
  {
   "cell_type": "code",
   "execution_count": 5,
   "metadata": {},
   "outputs": [],
   "source": [
    "m29_dist = 1148 # pc\n",
    "obs_minus_absolue = 5*np.log10(m29_dist) - 5\n",
    "data = data[data[\"V\"] < 9 + obs_minus_absolue]\n",
    "data[\"B\"] -= obs_minus_absolue\n",
    "data[\"V\"] -= obs_minus_absolue\n",
    "data[\"R\"] -= obs_minus_absolue\n",
    "data[\"I\"] -= obs_minus_absolue\n",
    "a_redd = 0.744\n",
    "\n",
    "A_v = 3.1*a_redd\n",
    "A_b = 1.32*A_v\n",
    "A_r = 0.79*A_v\n",
    "A_i = 0.55*A_v\n",
    "\n",
    "data[\"B\"] -= A_b\n",
    "data[\"V\"] -= A_v \n",
    "data[\"R\"] -= A_r\n",
    "data[\"I\"] -= A_i"
   ]
  },
  {
   "cell_type": "markdown",
   "metadata": {},
   "source": [
    "## Load isochrones"
   ]
  },
  {
   "cell_type": "code",
   "execution_count": 6,
   "metadata": {},
   "outputs": [],
   "source": [
    "times = [6.0 + i*0.1 for i in range(31)]\n",
    "\n",
    "filenames = [f\"isochrone_{10*t:.0f}.dat\" for t in times]\n",
    "isochrone_cols = [\"M_ini\", \"MV\", \"U-B\", \"B-V\", \"V-R\", \"V-I\"]\n",
    "isochrones = {\n",
    "    times[i]: pd.read_csv(os.path.join(\"..\", \"isochrones\", filenames[i]), delim_whitespace=True)[isochrone_cols] for i in range(len(filenames))\n",
    "}\n"
   ]
  },
  {
   "cell_type": "code",
   "execution_count": 7,
   "metadata": {},
   "outputs": [],
   "source": [
    "%matplotlib qt\n",
    "from matplotlib import colors\n",
    "\n",
    "def plot_3_cmds(data):\n",
    "    fig, (ax1, ax2, ax3) = plt.subplots(nrows=1, ncols=3)\n",
    "    B = data[\"B\"]\n",
    "    V = data[\"V\"]\n",
    "    R = data[\"R\"]\n",
    "    I = data[\"I\"]\n",
    "\n",
    "# ax1 B-V vs V\n",
    "    ax1.scatter(B-V, V, s=1)\n",
    "    ax1.set_xlabel(\"B-V\")\n",
    "    ax1.set_ylabel(\"V\")\n",
    "\n",
    "# ax2 V-R vs R\n",
    "    ax2.scatter(V-R, R, s=1)\n",
    "    ax2.set_xlabel(\"V-R\")\n",
    "    ax2.set_ylabel(\"R\")\n",
    "\n",
    "# ax3 R-I vs I\n",
    "    ax3.scatter(R-I, I, s=1)\n",
    "    ax3.set_xlabel(\"R-I\")\n",
    "    ax3.set_ylabel(\"I\")\n",
    "\n",
    "    plt.tight_layout()\n",
    "# isochrone\n",
    "    cdict = {'red':   ((0.0,  0.22, 0.0),\n",
    "                       (0.5,  1.0, 1.0),\n",
    "                       (1.0,  0.89, 1.0)),\n",
    "\n",
    "             'green': ((0.0,  0.49, 0.0),\n",
    "                       (0.5,  1.0, 1.0),\n",
    "                       (1.0,  0.12, 1.0)),\n",
    "\n",
    "             'blue':  ((0.0,  0.72, 0.0),\n",
    "                       (0.5,  0.0, 0.0),\n",
    "                       (1.0,  0.11, 1.0))}\n",
    "\n",
    "    cmap = colors.LinearSegmentedColormap('custom', cdict)\n",
    "\n",
    "    times = [6.0 + 0.1*i for i in range(31)]\n",
    "    for index, log_t in enumerate(times):\n",
    "        vmags = isochrones[log_t][\"MV\"] \n",
    "        bmags = isochrones[log_t][\"B-V\"] + vmags\n",
    "        rmags = vmags - isochrones[log_t][\"V-R\"]\n",
    "        imags = vmags - isochrones[log_t][\"V-I\"]\n",
    "        umags = isochrones[log_t][\"U-B\"] + bmags \n",
    "        isochrones[log_t][\"isoU\"] = umags\n",
    "        isochrones[log_t][\"isoB\"] = bmags\n",
    "        isochrones[log_t][\"isoV\"] = vmags\n",
    "        isochrones[log_t][\"isoR\"] = rmags\n",
    "        isochrones[log_t][\"isoI\"] = imags\n",
    "        # ax1.plot(bmags - vmags, bmags, c=cmap(index/len(times)))\n",
    "        # ax2.plot(vmags - rmags, vmags, c=cmap(index/len(times)))\n",
    "        # ax3.plot(rmags - imags, rmags, c=cmap(index/len(times)))\n",
    "    ax1.set_xlim((-0.5, 2.5))\n",
    "    ax1.set_ylim((-2, 7.5))\n",
    "\n",
    "    ax2.set_xlim((-0.5, 2))\n",
    "    ax2.set_ylim((-2, 7))\n",
    "\n",
    "    ax3.set_ylim((-2, 6.5))\n",
    "    ax3.set_xlim((-1, 1.5))\n",
    "    ax1.invert_yaxis()\n",
    "    ax2.invert_yaxis()\n",
    "    ax3.invert_yaxis()\n",
    "plot_3_cmds(data)"
   ]
  },
  {
   "cell_type": "markdown",
   "metadata": {},
   "source": [
    "## Metric in UBVRI space \n",
    "attempt 1: metric is of data scaled so that its std is 1 (approx the same shape in all dimensions)"
   ]
  },
  {
   "cell_type": "code",
   "execution_count": 8,
   "metadata": {},
   "outputs": [],
   "source": [
    "def metric1(color1, color2, stds):\n",
    "    \"\"\"\n",
    "    color is the tuple (U,B,V,R,I), or (B, V, R, I)\n",
    "    stds is a list of the same shape as colors, and contains the stds of the corresponding colors\n",
    "    \"\"\"\n",
    "    return sum([((color1[i] - color2[i])/stds[i])**2 for i in range(len(color1))])**0.5"
   ]
  },
  {
   "cell_type": "code",
   "execution_count": 9,
   "metadata": {},
   "outputs": [
    {
     "name": "stdout",
     "output_type": "stream",
     "text": [
      "Index(['_r', 'RAJ2000', 'DEJ2000', 'gmag', 'e_gmag', 'rmag', 'e_rmag', 'imag',\n",
      "       'e_imag', 'zmag', 'e_zmag', 'B', 'V', 'R', 'I'],\n",
      "      dtype='object')\n"
     ]
    }
   ],
   "source": [
    "from matplotlib import colors\n",
    "%matplotlib qt\n",
    "fig = plt.figure()\n",
    "ax = plt.axes(projection=\"3d\")\n",
    "# catalogue data\n",
    "# outliers identified by eye\n",
    "data = data[data[\"B\"] > 0]\n",
    "data = data[data[\"V\"] > 0]\n",
    "data = data[data[\"R\"] > 0]\n",
    "B = data[\"B\"]\n",
    "V = data[\"V\"]\n",
    "R = data[\"R\"]\n",
    "I = data[\"I\"]\n",
    "ax.scatter3D(B, V, R, s=1, color='red')\n",
    "\n",
    "# isochrone\n",
    "cdict = {'red':   ((0.0,  0.22, 0.0),\n",
    "                   (0.5,  1.0, 1.0),\n",
    "                   (1.0,  0.89, 1.0)),\n",
    "\n",
    "         'green': ((0.0,  0.49, 0.0),\n",
    "                   (0.5,  1.0, 1.0),\n",
    "                   (1.0,  0.12, 1.0)),\n",
    "\n",
    "         'blue':  ((0.0,  0.72, 0.0),\n",
    "                   (0.5,  0.0, 0.0),\n",
    "                   (1.0,  0.11, 1.0))}\n",
    "\n",
    "cmap = colors.LinearSegmentedColormap('custom', cdict)\n",
    "\n",
    "times = [6, 7, 8, 9]\n",
    "for index, log_t in enumerate(times):\n",
    "    vmags = isochrones[log_t][\"MV\"] \n",
    "    bmags = isochrones[log_t][\"B-V\"] + vmags\n",
    "    rmags = vmags - isochrones[log_t][\"V-R\"]\n",
    "    imags = vmags - isochrones[log_t][\"V-I\"]\n",
    "\n",
    "    ax.plot3D(bmags, vmags, rmags, c=cmap(index/len(times)))\n",
    "ax.set_xlabel(\"B mag\")\n",
    "ax.set_ylabel(\"V mag\")\n",
    "ax.set_zlabel(\"R mag\")\n",
    "plt.show()\n",
    "print(data.columns)"
   ]
  },
  {
   "cell_type": "markdown",
   "metadata": {},
   "source": [
    "## Plot n_stars below a certain distance "
   ]
  },
  {
   "cell_type": "code",
   "execution_count": 10,
   "metadata": {},
   "outputs": [
    {
     "name": "stdout",
     "output_type": "stream",
     "text": [
      "[1.8657112086230354, 1.5600759542416949, 1.4411258827436177, 1.5674809337549491]\n",
      "Index(['M_ini', 'MV', 'U-B', 'B-V', 'V-R', 'V-I', 'isoU', 'isoB', 'isoV',\n",
      "       'isoR', 'isoI'],\n",
      "      dtype='object')\n",
      "675\n"
     ]
    }
   ],
   "source": [
    "stds = [np.std(data[filter]) for filter in [\"B\", \"V\", \"R\", \"I\"]]\n",
    "print(stds)\n",
    "right_isochrone = isochrones[7.1]\n",
    "print(right_isochrone.columns)\n",
    "\n",
    "distance_data = []\n",
    "mass_data = []\n",
    "print(len(data[\"B\"]))\n",
    "for i in range(len(data[\"B\"])):\n",
    "    # index of isochrone where the distance is minimal\n",
    "    min_index = np.argmin([\n",
    "        metric1(\n",
    "            (data[\"B\"].iloc[i], data[\"V\"].iloc[i], data[\"R\"].iloc[i], data[\"I\"].iloc[i]),\n",
    "            (right_isochrone[\"isoB\"].iloc[j], right_isochrone[\"isoV\"].iloc[j], right_isochrone[\"isoR\"].iloc[j], right_isochrone[\"isoI\"].iloc[j]), \n",
    "            stds\n",
    "        ) for j in range(len(right_isochrone[\"isoB\"]))\n",
    "    ])\n",
    "    mass_data.append(right_isochrone[\"M_ini\"][min_index])\n",
    "    # dist = np.min([\n",
    "    #     metric1(\n",
    "    #         (data[\"B\"].iloc[i], data[\"V\"].iloc[i], data[\"R\"].iloc[i], data[\"I\"].iloc[i]),\n",
    "    #         (right_isochrone[\"isoB\"].iloc[j], right_isochrone[\"isoV\"].iloc[j], right_isochrone[\"isoR\"].iloc[j], right_isochrone[\"isoI\"].iloc[j]), \n",
    "    #         stds\n",
    "    #     ) for j in range(len(right_isochrone[\"isoB\"]))\n",
    "    # ])\n",
    "    dist = metric1(\n",
    "        (data[\"B\"].iloc[i], data[\"V\"].iloc[i], data[\"R\"].iloc[i], data[\"I\"].iloc[i]), \n",
    "        (right_isochrone[\"isoB\"].iloc[min_index], right_isochrone[\"isoV\"].iloc[min_index], right_isochrone[\"isoR\"].iloc[min_index], right_isochrone[\"isoI\"].iloc[min_index])\n",
    "    )\n",
    "    distance_data.append(dist)\n",
    "\n",
    "data[\"distance\"] = distance_data\n",
    "data[\"mass\"] = mass_data"
   ]
  },
  {
   "cell_type": "code",
   "execution_count": 18,
   "metadata": {},
   "outputs": [
    {
     "name": "stdout",
     "output_type": "stream",
     "text": [
      "               _r     RAJ2000     DEJ2000        gmag      e_gmag        rmag  \\\n",
      "count  675.000000  675.000000  675.000000  675.000000  652.000000  675.000000   \n",
      "mean     4.627891  305.934188   38.483931   18.071929    0.010234   16.848325   \n",
      "std      1.591300    0.074790    0.056365    1.734367    0.012759    1.465992   \n",
      "min      0.293800  305.796876   38.371720   13.095000    0.000000   12.468000   \n",
      "25%      3.409650  305.873374   38.439147   16.962150    0.004200   15.987800   \n",
      "50%      4.883600  305.929142   38.482580   18.496000    0.007500   17.183000   \n",
      "75%      6.007650  305.991380   38.526366   19.498300    0.012925   18.046900   \n",
      "max      6.999800  306.088732   38.599918   20.815300    0.242400   19.894000   \n",
      "\n",
      "           e_rmag        imag      e_imag        zmag      e_zmag           B  \\\n",
      "count  646.000000  675.000000  643.000000  675.000000  653.000000  675.000000   \n",
      "mean     0.006957   16.245478    0.007733   15.830681    0.006086    5.414977   \n",
      "std      0.008833    1.388270    0.020697    1.329125    0.007923    1.867095   \n",
      "min      0.000000   11.826000    0.000000   11.112000    0.000000    0.130103   \n",
      "25%      0.003125   15.379100    0.002800   15.006700    0.002700    4.192365   \n",
      "50%      0.005050   16.497300    0.004400   16.020000    0.004300    5.875437   \n",
      "75%      0.008200   17.244050    0.006900   16.809850    0.006400    6.943042   \n",
      "max      0.124000   21.048200    0.341800   20.247300    0.096800    8.936202   \n",
      "\n",
      "                V           R           I    distance        mass  \n",
      "count  675.000000  675.000000  675.000000  675.000000  675.000000  \n",
      "mean     4.733894    4.341134    4.081823    0.333709    1.176212  \n",
      "std      1.561233    1.442195    1.568643    0.648817    0.448814  \n",
      "min      0.222831    0.025551   -0.522420    0.028255    0.520000  \n",
      "25%      3.804124    3.517024    3.191851    0.111571    0.862000  \n",
      "50%      5.099283    4.634148    4.205347    0.163934    1.007000  \n",
      "75%      6.045259    5.392136    4.978406    0.275730    1.272000  \n",
      "max      6.693074    9.328023   14.297665    7.140279    3.500000  \n"
     ]
    }
   ],
   "source": [
    "%matplotlib qt\n",
    "plt.hist(data[\"mass\"], bins=50, range=[0, 4])\n",
    "plt.show()\n",
    "threshold = 0.25\n",
    "data_in_cluster = data[data[\"distance\"] < threshold]\n",
    "\n",
    "print(data.describe())"
   ]
  },
  {
   "cell_type": "code",
   "execution_count": null,
   "metadata": {},
   "outputs": [],
   "source": []
  }
 ],
 "metadata": {
  "kernelspec": {
   "display_name": "Python 3.10.4",
   "language": "python",
   "name": "python3"
  },
  "language_info": {
   "codemirror_mode": {
    "name": "ipython",
    "version": 3
   },
   "file_extension": ".py",
   "mimetype": "text/x-python",
   "name": "python",
   "nbconvert_exporter": "python",
   "pygments_lexer": "ipython3",
   "version": "3.10.4"
  },
  "orig_nbformat": 4,
  "vscode": {
   "interpreter": {
    "hash": "60ec8ab5e5a195d70e3f04de7f9e43c26a6859d3c30e7c2dc29a8f7eb2e8a73c"
   }
  }
 },
 "nbformat": 4,
 "nbformat_minor": 2
}
