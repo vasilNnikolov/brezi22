{
 "cells": [
  {
   "cell_type": "code",
   "execution_count": 2,
   "metadata": {},
   "outputs": [],
   "source": [
    "import matplotlib.pyplot as plt\n",
    "import numpy as np\n",
    "import pandas as pd\n",
    "import os\n",
    "base_dir = os.getcwd()"
   ]
  },
  {
   "cell_type": "code",
   "execution_count": 3,
   "metadata": {},
   "outputs": [
    {
     "name": "stdout",
     "output_type": "stream",
     "text": [
      "                _r      RAJ2000      DEJ2000         gmag       e_gmag  \\\n",
      "count  6103.000000  6103.000000  6103.000000  2775.000000  1760.000000   \n",
      "mean      4.713027   305.933606    38.482211    21.518668     0.059655   \n",
      "std       1.622350     0.074891     0.058212     3.321451     0.068847   \n",
      "min       0.034900   305.794028    38.370887     8.725000     0.000000   \n",
      "25%       3.582200   305.872763    38.433972    19.862950     0.009475   \n",
      "50%       4.991800   305.929423    38.481161    21.577800     0.030750   \n",
      "75%       6.088200   305.992937    38.528819    23.208000     0.081100   \n",
      "max       6.999900   306.091144    38.602637    30.090000     0.432200   \n",
      "\n",
      "              rmag       e_rmag         imag       e_imag         zmag  \\\n",
      "count  3702.000000  3187.000000  5594.000000  5401.000000  5895.000000   \n",
      "mean     20.065846     0.061443    19.683335     0.050423    19.009028   \n",
      "std       2.377252     0.069253     1.994553     0.058106     1.806394   \n",
      "min       7.983500     0.000000     8.156000     0.000000     7.266100   \n",
      "25%      19.064600     0.010850    18.862500     0.010900    18.281500   \n",
      "50%      20.661800     0.032200    20.261600     0.027300    19.488900   \n",
      "75%      21.540800     0.088900    21.132475     0.065300    20.319900   \n",
      "max      26.201000     0.479500    22.840000     0.453500    21.330400   \n",
      "\n",
      "            e_zmag  \n",
      "count  5831.000000  \n",
      "mean      0.044909  \n",
      "std       0.050470  \n",
      "min       0.000000  \n",
      "25%       0.011500  \n",
      "50%       0.026000  \n",
      "75%       0.058800  \n",
      "max       0.462700  \n"
     ]
    }
   ],
   "source": [
    "data_filename = \"m29_7arcmin_panstarrs_data.csv\"\n",
    "data = pd.read_csv(os.path.join(base_dir, data_filename), sep=';')\n",
    "useful_columns = [\"_r\", \"RAJ2000\", \"DEJ2000\", \"gmag\", \"e_gmag\", \"rmag\", \"e_rmag\", \"imag\", \"e_imag\", \"zmag\", \"e_zmag\"]\n",
    "data = data[useful_columns]\n",
    "\n",
    "def to_float(x): \n",
    "    try: \n",
    "        return float(x)\n",
    "    except Exception:\n",
    "        return np.nan \n",
    "data = data.applymap(to_float).astype(float)\n",
    "\n",
    "print(data.describe())"
   ]
  },
  {
   "cell_type": "code",
   "execution_count": 4,
   "metadata": {},
   "outputs": [
    {
     "name": "stdout",
     "output_type": "stream",
     "text": [
      "                _r      RAJ2000      DEJ2000         gmag       e_gmag  \\\n",
      "count  2641.000000  2641.000000  2641.000000  2641.000000  1629.000000   \n",
      "mean      4.725604   305.935539    38.483476    21.623468     0.055435   \n",
      "std       1.592680     0.075223     0.058280     3.276687     0.065481   \n",
      "min       0.034900   305.794028    38.371720     8.725000     0.000000   \n",
      "25%       3.592300   305.873864    38.435752    19.892500     0.009100   \n",
      "50%       4.972200   305.929754    38.482309    21.618000     0.028400   \n",
      "75%       6.075000   305.994990    38.529979    23.485000     0.070900   \n",
      "max       6.999800   306.091144    38.602637    30.090000     0.432200   \n",
      "\n",
      "              rmag       e_rmag         imag       e_imag         zmag  \\\n",
      "count  2641.000000  2131.000000  2641.000000  2451.000000  2641.000000   \n",
      "mean     19.719195     0.036523    18.562242     0.022226    17.803363   \n",
      "std       2.478741     0.049236     2.039345     0.034142     1.803760   \n",
      "min       8.338800     0.000000     8.156000     0.000000     7.967000   \n",
      "25%      18.477900     0.007600    17.599900     0.005500    16.969300   \n",
      "50%      20.027000     0.018800    18.905700     0.011600    18.182700   \n",
      "75%      21.212300     0.042000    19.840200     0.022950    18.933000   \n",
      "max      26.201000     0.458600    22.840000     0.375800    21.138700   \n",
      "\n",
      "            e_zmag  \n",
      "count  2579.000000  \n",
      "mean      0.019080  \n",
      "std       0.025128  \n",
      "min       0.000000  \n",
      "25%       0.005700  \n",
      "50%       0.011900  \n",
      "75%       0.021200  \n",
      "max       0.335600  \n"
     ]
    }
   ],
   "source": [
    "data.dropna(subset=[\"gmag\", \"rmag\", \"imag\", \"zmag\"], inplace=True)\n",
    "gmags = data[\"gmag\"]\n",
    "print(data.describe())"
   ]
  },
  {
   "cell_type": "code",
   "execution_count": 5,
   "metadata": {},
   "outputs": [
    {
     "name": "stdout",
     "output_type": "stream",
     "text": [
      "u: 2641, g: 2641, B: 2641\n",
      "2641\n"
     ]
    }
   ],
   "source": [
    "def ugriz_to_ubvri(ugriz):\n",
    "    u, g, r, i, z = ugriz\n",
    "    u = np.array(u)\n",
    "    g = np.array(g)\n",
    "    r = np.array(r)\n",
    "    i = np.array(i)\n",
    "    z = np.array(z)\n",
    "\n",
    "    V = g - 0.59*(g - r) - 0.01\n",
    "    B = g + 0.39*(g - r) + 0.21\n",
    "    R = V - (1.09*(r - i) + 0.22)\n",
    "    print(f\"u: {len(u)}, g: {len(g)}, B: {len(B)}\")\n",
    "    U = 0.77*(u - g) - 0.88 + B\n",
    "    print(len(U))\n",
    "\n",
    "    I = R - (r - i + 0.21)\n",
    "    return (U, B, V, R, I)\n",
    "\n",
    "umags = pd.Series([0 for _ in range(len(gmags))])\n",
    "gmags = data[\"gmag\"]\n",
    "rmags = data[\"rmag\"]\n",
    "imags = data[\"imag\"]\n",
    "zmags = data[\"zmag\"]\n",
    "_, data[\"B\"], data[\"V\"], data[\"R\"], data[\"I\"] = ugriz_to_ubvri((umags, gmags, rmags, imags, zmags))\n",
    "\n"
   ]
  },
  {
   "cell_type": "code",
   "execution_count": 19,
   "metadata": {},
   "outputs": [
    {
     "name": "stdout",
     "output_type": "stream",
     "text": [
      "           M_ini         MV        U-B        B-V        V-R        V-I\n",
      "count  51.000000  51.000000  51.000000  51.000000  51.000000  51.000000\n",
      "mean    1.550843   4.139249   0.307276   0.499929   0.297457   0.550755\n",
      "std     0.869818   2.767242   0.559377   0.523928   0.294385   0.577615\n",
      "min     0.500000   0.452500  -0.442900  -0.139700  -0.048800  -0.165600\n",
      "25%     0.813500   1.629900  -0.070550  -0.016000   0.011100  -0.005750\n",
      "50%     1.323000   3.712800   0.071200   0.438000   0.259300   0.498700\n",
      "75%     2.152000   6.464300   0.770050   0.974800   0.540950   0.996350\n",
      "max     3.500000   9.021100   1.266700   1.333700   0.805300   1.569000\n",
      "           M_ini         MV        U-B        B-V        V-R        V-I\n",
      "count  51.000000  51.000000  51.000000  51.000000  51.000000  51.000000\n",
      "mean    1.550843   4.121516   0.310863   0.501149   0.298039   0.552339\n",
      "std     0.869818   2.787940   0.555439   0.522569   0.293754   0.575870\n",
      "min     0.500000   0.329000  -0.413300  -0.132900  -0.045400  -0.157700\n",
      "25%     0.813500   1.612250  -0.068450  -0.013850   0.012050  -0.003200\n",
      "50%     1.323000   3.710300   0.071200   0.437800   0.259200   0.498600\n",
      "75%     2.152000   6.464100   0.770150   0.974900   0.541000   0.996400\n",
      "max     3.500000   9.020800   1.266800   1.333800   0.805300   1.569100\n",
      "            M_ini          MV         U-B         B-V         V-R         V-I\n",
      "count  175.000000  175.000000  175.000000  175.000000  175.000000  175.000000\n",
      "mean     1.827794    2.026248    0.171517    0.428384    0.253202    0.493605\n",
      "std      0.432422    1.996593    0.302972    0.282038    0.156887    0.295274\n",
      "min      0.500000    0.950500    0.030200    0.124800    0.084000    0.170600\n",
      "25%      2.004000    0.991400    0.051250    0.267400    0.166700    0.331650\n",
      "50%      2.018000    1.268000    0.058600    0.309200    0.191200    0.376800\n",
      "75%      2.032000    1.463550    0.068250    0.493550    0.283600    0.557950\n",
      "max      2.047000    9.018100    1.267300    1.334200    0.805600    1.569800\n"
     ]
    }
   ],
   "source": [
    "times = [6.0 + i*0.1 for i in range(31)]\n",
    "\n",
    "filenames = [f\"isochrone_{10*t:.0f}.dat\" for t in times]\n",
    "isochrone_cols = [\"M_ini\", \"MV\", \"U-B\", \"B-V\", \"V-R\", \"V-I\"]\n",
    "isochrones = {times[i]: pd.read_csv(os.path.join(\"..\", \"isochrones\", filenames[i]), delim_whitespace=True)[isochrone_cols] for i in range(len(filenames))}\n",
    "\n",
    "print(isochrones[6].describe())\n",
    "print(isochrones[7.5].describe())\n",
    "print(isochrones[9].describe())"
   ]
  },
  {
   "cell_type": "code",
   "execution_count": 17,
   "metadata": {},
   "outputs": [],
   "source": [
    "%matplotlib qt\n",
    "fig = plt.figure()\n",
    "ax = plt.axes(projection=\"3d\")\n",
    "m29_dist = 1148 # pc\n",
    "obs_minus_absolue = 5*np.log(m29_dist) - 5\n",
    "B = data[\"B\"] - obs_minus_absolue\n",
    "V = data[\"V\"] - obs_minus_absolue\n",
    "R = data[\"R\"] - obs_minus_absolue\n",
    "I = data[\"I\"] - obs_minus_absolue\n",
    "ax.scatter3D(V, B-V, V-R, s=1, color='red')\n",
    "\n",
    "log_t = 7.5\n",
    "vmags = isochrones[log_t][\"MV\"] \n",
    "bmags = isochrones[log_t][\"B-V\"] + vmags\n",
    "rmags = vmags - isochrones[log_t][\"V-R\"]\n",
    "imags = vmags - isochrones[log_t][\"V-I\"]\n",
    "\n",
    "ax.scatter3D(vmags, bmags - vmags, vmags - rmags, s=3, color='blue')\n",
    "ax.set_xlabel(\"V mag\")\n",
    "ax.set_ylabel(\"B - V\")\n",
    "ax.set_zlabel(\"V - R\")\n",
    "plt.show()"
   ]
  },
  {
   "cell_type": "code",
   "execution_count": 23,
   "metadata": {},
   "outputs": [],
   "source": [
    "from matplotlib import colors\n",
    "%matplotlib qt\n",
    "fig = plt.figure()\n",
    "ax = plt.axes(projection=\"3d\")\n",
    "# catalogue data\n",
    "m29_dist = 1148 # pc\n",
    "obs_minus_absolue = 5*np.log10(m29_dist) - 5\n",
    "B = data[\"B\"] - obs_minus_absolue\n",
    "V = data[\"V\"] - obs_minus_absolue\n",
    "R = data[\"R\"] - obs_minus_absolue\n",
    "I = data[\"I\"] - obs_minus_absolue\n",
    "ax.scatter3D(V, B-V, V-R, s=1, color='red')\n",
    "\n",
    "# isochrone\n",
    "cdict = {'red':   ((0.0,  0.22, 0.0),\n",
    "                   (0.5,  1.0, 1.0),\n",
    "                   (1.0,  0.89, 1.0)),\n",
    "\n",
    "         'green': ((0.0,  0.49, 0.0),\n",
    "                   (0.5,  1.0, 1.0),\n",
    "                   (1.0,  0.12, 1.0)),\n",
    "\n",
    "         'blue':  ((0.0,  0.72, 0.0),\n",
    "                   (0.5,  0.0, 0.0),\n",
    "                   (1.0,  0.11, 1.0))}\n",
    "\n",
    "cmap = colors.LinearSegmentedColormap('custom', cdict)\n",
    "\n",
    "times = [6, 7, 8, 9]\n",
    "for index, log_t in enumerate(times):\n",
    "    vmags = isochrones[log_t][\"MV\"] \n",
    "    bmags = isochrones[log_t][\"B-V\"] + vmags\n",
    "    rmags = vmags - isochrones[log_t][\"V-R\"]\n",
    "    imags = vmags - isochrones[log_t][\"V-I\"]\n",
    "\n",
    "    ax.plot3D(vmags, bmags - vmags, vmags - rmags, c=cmap(index/len(times)))\n",
    "ax.set_xlabel(\"V mag\")\n",
    "ax.set_ylabel(\"B - V\")\n",
    "ax.set_zlabel(\"V - R\")\n",
    "plt.show()"
   ]
  },
  {
   "cell_type": "code",
   "execution_count": null,
   "metadata": {},
   "outputs": [],
   "source": []
  }
 ],
 "metadata": {
  "kernelspec": {
   "display_name": "Python 3.10.4",
   "language": "python",
   "name": "python3"
  },
  "language_info": {
   "codemirror_mode": {
    "name": "ipython",
    "version": 3
   },
   "file_extension": ".py",
   "mimetype": "text/x-python",
   "name": "python",
   "nbconvert_exporter": "python",
   "pygments_lexer": "ipython3",
   "version": "3.10.4"
  },
  "orig_nbformat": 4,
  "vscode": {
   "interpreter": {
    "hash": "60ec8ab5e5a195d70e3f04de7f9e43c26a6859d3c30e7c2dc29a8f7eb2e8a73c"
   }
  }
 },
 "nbformat": 4,
 "nbformat_minor": 2
}
